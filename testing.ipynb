{
 "cells": [
  {
   "cell_type": "code",
   "execution_count": 1,
   "metadata": {},
   "outputs": [],
   "source": [
    "from model.RecurrentVisionTransformer import RVT\n",
    "import torch\n",
    "# Load ckpt rvt-t.ckpt\n",
    "ckpt = torch.load('rvt-t.ckpt')\n",
    "\n"
   ]
  },
  {
   "cell_type": "code",
   "execution_count": 2,
   "metadata": {},
   "outputs": [
    {
     "name": "stdout",
     "output_type": "stream",
     "text": [
      "[31360, 32, 32, 3072, 96, 1024, 32, 32, 32, 32, 4096, 128, 4096, 32, 32, 32, 32, 3072, 96, 1024, 32, 32, 32, 32, 4096, 128, 4096, 32, 32, 8192, 128, 18432, 64, 64, 12288, 192, 4096, 64, 64, 64, 64, 16384, 256, 16384, 64, 64, 64, 64, 12288, 192, 4096, 64, 64, 64, 64, 16384, 256, 16384, 64, 64, 32768, 256, 73728, 128, 128, 49152, 384, 16384, 128, 128, 128, 128, 65536, 512, 65536, 128, 128, 128, 128, 49152, 384, 16384, 128, 128, 128, 128, 65536, 512, 65536, 128, 128, 131072, 512, 294912, 256, 256, 196608, 768, 65536, 256, 256, 256, 256, 262144, 1024, 262144, 256, 256, 256, 256, 196608, 768, 65536, 256, 256, 256, 256, 262144, 1024, 262144, 256, 256, 524288, 1024, 32768, 128, 128, 128, 128, 1, 16384, 64, 64, 64, 64, 1, 16384, 64, 64, 64, 64, 1, 16384, 128, 128, 128, 128, 1, 4096, 64, 64, 64, 64, 1, 36864, 64, 64, 64, 64, 1, 8192, 64, 64, 64, 64, 1, 4096, 32, 32, 32, 32, 1, 4096, 32, 32, 32, 32, 1, 4096, 64, 64, 64, 64, 1, 1024, 32, 32, 32, 32, 1, 9216, 32, 32, 32, 32, 1, 36864, 64, 64, 64, 64, 1, 8192, 64, 64, 64, 64, 1, 8192, 64, 64, 64, 64, 1, 16384, 128, 128, 128, 128, 1, 4096, 64, 64, 64, 64, 1, 36864, 64, 64, 64, 64, 1, 147456, 128, 128, 128, 128, 1, 32768, 128, 128, 128, 128, 1, 32768, 128, 128, 128, 128, 1, 65536, 256, 256, 256, 256, 1, 16384, 128, 128, 128, 128, 1, 147456, 128, 128, 128, 128, 1, 36864, 64, 64, 64, 64, 1, 36864, 64, 64, 64, 64, 1, 36864, 64, 64, 64, 64, 1, 36864, 64, 64, 64, 64, 1, 36864, 64, 64, 64, 64, 1, 36864, 64, 64, 64, 64, 1, 36864, 64, 64, 64, 64, 1, 36864, 64, 64, 64, 64, 1, 36864, 64, 64, 64, 64, 1, 36864, 64, 64, 64, 64, 1, 36864, 64, 64, 64, 64, 1, 36864, 64, 64, 64, 64, 1, 192, 3, 192, 3, 192, 3, 256, 4, 256, 4, 256, 4, 64, 1, 64, 1, 64, 1, 4096, 64, 64, 64, 64, 1, 8192, 64, 64, 64, 64, 1, 16384, 64, 64, 64, 64, 1]\n"
     ]
    }
   ],
   "source": [
    "print([ckpt['state_dict'][k].reshape(-1).shape[0] for k in ckpt['state_dict'].keys()])"
   ]
  },
  {
   "cell_type": "code",
   "execution_count": 3,
   "metadata": {},
   "outputs": [],
   "source": [
    "model = RVT(n_time_bins=8)"
   ]
  },
  {
   "cell_type": "code",
   "execution_count": 4,
   "metadata": {},
   "outputs": [
    {
     "ename": "AttributeError",
     "evalue": "'RVT' object has no attribute 'describe'",
     "output_type": "error",
     "traceback": [
      "\u001b[0;31m---------------------------------------------------------------------------\u001b[0m",
      "\u001b[0;31mAttributeError\u001b[0m                            Traceback (most recent call last)",
      "Cell \u001b[0;32mIn[4], line 1\u001b[0m\n\u001b[0;32m----> 1\u001b[0m \u001b[43mmodel\u001b[49m\u001b[38;5;241;43m.\u001b[39;49m\u001b[43mdescribe\u001b[49m()\n",
      "File \u001b[0;32m~/anaconda3/envs/event_eyetracking/lib/python3.9/site-packages/torch/nn/modules/module.py:1688\u001b[0m, in \u001b[0;36mModule.__getattr__\u001b[0;34m(self, name)\u001b[0m\n\u001b[1;32m   1686\u001b[0m     \u001b[38;5;28;01mif\u001b[39;00m name \u001b[38;5;129;01min\u001b[39;00m modules:\n\u001b[1;32m   1687\u001b[0m         \u001b[38;5;28;01mreturn\u001b[39;00m modules[name]\n\u001b[0;32m-> 1688\u001b[0m \u001b[38;5;28;01mraise\u001b[39;00m \u001b[38;5;167;01mAttributeError\u001b[39;00m(\u001b[38;5;124mf\u001b[39m\u001b[38;5;124m\"\u001b[39m\u001b[38;5;124m'\u001b[39m\u001b[38;5;132;01m{\u001b[39;00m\u001b[38;5;28mtype\u001b[39m(\u001b[38;5;28mself\u001b[39m)\u001b[38;5;241m.\u001b[39m\u001b[38;5;18m__name__\u001b[39m\u001b[38;5;132;01m}\u001b[39;00m\u001b[38;5;124m'\u001b[39m\u001b[38;5;124m object has no attribute \u001b[39m\u001b[38;5;124m'\u001b[39m\u001b[38;5;132;01m{\u001b[39;00mname\u001b[38;5;132;01m}\u001b[39;00m\u001b[38;5;124m'\u001b[39m\u001b[38;5;124m\"\u001b[39m)\n",
      "\u001b[0;31mAttributeError\u001b[0m: 'RVT' object has no attribute 'describe'"
     ]
    }
   ],
   "source": [
    "model.describe()"
   ]
  },
  {
   "cell_type": "code",
   "execution_count": null,
   "metadata": {},
   "outputs": [],
   "source": []
  }
 ],
 "metadata": {
  "kernelspec": {
   "display_name": "event_eyetracking",
   "language": "python",
   "name": "python3"
  },
  "language_info": {
   "codemirror_mode": {
    "name": "ipython",
    "version": 3
   },
   "file_extension": ".py",
   "mimetype": "text/x-python",
   "name": "python",
   "nbconvert_exporter": "python",
   "pygments_lexer": "ipython3",
   "version": "3.9.0"
  }
 },
 "nbformat": 4,
 "nbformat_minor": 2
}
