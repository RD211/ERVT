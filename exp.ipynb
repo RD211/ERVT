{
 "cells": [
  {
   "cell_type": "code",
   "execution_count": 13,
   "metadata": {},
   "outputs": [
    {
     "name": "stdout",
     "output_type": "stream",
     "text": [
      "event_data/train/1_2/label.txt\n"
     ]
    }
   ],
   "source": [
    "import os\n",
    "import re\n",
    "def process_line(line):\n",
    "    match = re.match(r'\\((\\d+),\\s*(\\d+),\\s*(\\d+)\\)', line)\n",
    "    \n",
    "    if match:\n",
    "        x, y, z = map(int, match.groups())\n",
    "        # Modify the coordinates as needed (subtracting 5 from x and y, and setting width and height to 10)\n",
    "        modified_line = f\"({x-10}, {y-10}, 20, 20)\\n\"\n",
    "        return modified_line\n",
    "    else:\n",
    "        # Return the original line if it doesn't match the expected format\n",
    "        return line\n",
    "\n",
    "def process_files_in_directory(directory):\n",
    "    for root, dirs, files in os.walk(directory):\n",
    "        for file in files:\n",
    "            file_path = os.path.join(root, file)\n",
    "\n",
    "            # Skip non-text files (you can customize the file extensions)\n",
    "            if not file_path.endswith(('label.txt')):\n",
    "                continue\n",
    "            print(file_path)\n",
    "            processed_file_path = file_path.replace(\".\", \"_processed.\")\n",
    "\n",
    "            with open(file_path, 'r') as original_file:\n",
    "                lines = original_file.readlines()\n",
    "\n",
    "            with open(processed_file_path, 'w') as processed_file:\n",
    "                for line in lines:\n",
    "                    processed_line = process_line(line)\n",
    "                    processed_file.write(processed_line)\n",
    "\n",
    "\n",
    "directory_path = \"event_data/train/1_2/\"\n",
    "process_files_in_directory(directory_path)\n"
   ]
  },
  {
   "cell_type": "code",
   "execution_count": null,
   "metadata": {},
   "outputs": [],
   "source": []
  }
 ],
 "metadata": {
  "kernelspec": {
   "display_name": "eye",
   "language": "python",
   "name": "python3"
  },
  "language_info": {
   "codemirror_mode": {
    "name": "ipython",
    "version": 3
   },
   "file_extension": ".py",
   "mimetype": "text/x-python",
   "name": "python",
   "nbconvert_exporter": "python",
   "pygments_lexer": "ipython3",
   "version": "3.9.0"
  }
 },
 "nbformat": 4,
 "nbformat_minor": 2
}
